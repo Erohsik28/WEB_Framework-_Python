{
 "cells": [
  {
   "cell_type": "code",
   "execution_count": 2,
   "id": "bced6948",
   "metadata": {
    "scrolled": true
   },
   "outputs": [],
   "source": [
    "from flask import Flask, request, jsonify\n",
    "from flask_restful import Api, Resource\n",
    "\n",
    "app = Flask(__name__)\n",
    "api = Api(app)"
   ]
  },
  {
   "cell_type": "code",
   "execution_count": 3,
   "id": "acf2bb0f",
   "metadata": {},
   "outputs": [],
   "source": [
    "def check_data(data, func_name):\n",
    "    if func_name == 'add' or func_name == 'subtract' or func_name == 'multiply':\n",
    "        if len(data) != 2:\n",
    "            return \"ERROR: incorrect number of paramters\", 301\n",
    "        else:\n",
    "            return \"\", 200\n",
    "    elif func_name == 'divide':\n",
    "        if len(data) != 2:\n",
    "            return \"ERROR: incorrect number of paramters\", 301\n",
    "        elif data['y'] == 0:\n",
    "            return \"ERROR: divide by zero\", 302\n",
    "        else:\n",
    "            return \"\", 200"
   ]
  },
  {
   "cell_type": "code",
   "execution_count": 4,
   "id": "de5610e7",
   "metadata": {},
   "outputs": [],
   "source": [
    "# resource for adding two numbers\n",
    "# if a request hits the /add endpoint, the api will determine what type of\n",
    "# request it is\n",
    "class Add(Resource):\n",
    "    # when a request comes into the /add endpoint and it is a POST, invoke\n",
    "    def post(self):\n",
    "        data = request.get_json()\n",
    "\n",
    "        msg, status_code = check_data(data,'add')\n",
    "        if status_code != 200:\n",
    "            return jsonify({\n",
    "                'Message': msg,\n",
    "                'Status Code': status_code\n",
    "            })\n",
    "\n",
    "        x = data['x']\n",
    "        y = data['y']\n",
    "        sum = x+y\n",
    "        ret = {\n",
    "            'Message': sum,\n",
    "            'Status Code': 200\n",
    "        }\n",
    "        return jsonify(ret)"
   ]
  },
  {
   "cell_type": "code",
   "execution_count": 5,
   "id": "22345569",
   "metadata": {},
   "outputs": [],
   "source": [
    "class Subtract(Resource):\n",
    "    def post(self):\n",
    "        data = request.get_json()\n",
    "        msg, status_code = check_data(data, 'subtract')\n",
    "        if status_code != 200:\n",
    "            return jsonify({\n",
    "                'Message': msg,\n",
    "                'Status Code': status_code\n",
    "            })\n",
    "\n",
    "        x = data['x']\n",
    "        y = data['y']\n",
    "        diff = x-y\n",
    "        ret = {\n",
    "            'Message': diff,\n",
    "            'Status Code': 200\n",
    "        }\n",
    "        return jsonify(ret)"
   ]
  },
  {
   "cell_type": "code",
   "execution_count": 6,
   "id": "c1992dad",
   "metadata": {},
   "outputs": [],
   "source": [
    "class Multiply(Resource):\n",
    "    def post(self):\n",
    "        data = request.get_json()\n",
    "        msg, status_code = check_data(data, 'multiply')\n",
    "        if status_code != 200:\n",
    "            return jsonify({\n",
    "                'Message': msg,\n",
    "                'Status Code': status_code\n",
    "            })\n",
    "\n",
    "        x = data['x']\n",
    "        y = data['y']\n",
    "        prod = x*y\n",
    "        ret = {\n",
    "            'Message': prod,\n",
    "            'Status Code': 200\n",
    "        }\n",
    "        return jsonify(ret)"
   ]
  },
  {
   "cell_type": "code",
   "execution_count": 7,
   "id": "a7f094b3",
   "metadata": {},
   "outputs": [],
   "source": [
    "class Divide(Resource):\n",
    "    def post(self):\n",
    "        data = request.get_json()\n",
    "        msg, status_code = check_data(data, 'divide')\n",
    "        if status_code != 200:\n",
    "            return jsonify({\n",
    "                'Message': msg,\n",
    "                'Status Code': status_code\n",
    "            })\n",
    "\n",
    "        x = data['x']\n",
    "        y = data['y']\n",
    "        quotient = (x*1.0) / y\n",
    "        ret = {\n",
    "            'Message': quotient,\n",
    "            'Status Code': 200\n",
    "        }\n",
    "        return jsonify(ret)"
   ]
  },
  {
   "cell_type": "code",
   "execution_count": null,
   "id": "fc75fdc6",
   "metadata": {},
   "outputs": [
    {
     "name": "stdout",
     "output_type": "stream",
     "text": [
      " * Serving Flask app \"__main__\" (lazy loading)\n",
      " * Environment: production\n",
      "\u001b[31m   WARNING: This is a development server. Do not use it in a production deployment.\u001b[0m\n",
      "\u001b[2m   Use a production WSGI server instead.\u001b[0m\n",
      " * Debug mode: off\n"
     ]
    },
    {
     "name": "stderr",
     "output_type": "stream",
     "text": [
      " * Running on http://127.0.0.1:5000/ (Press CTRL+C to quit)\n"
     ]
    }
   ],
   "source": [
    "api.add_resource(Add, '/add')\n",
    "api.add_resource(Subtract, '/subtract')\n",
    "api.add_resource(Multiply, '/multiply')\n",
    "api.add_resource(Divide, '/divide')\n",
    "\n",
    "if __name__ == '__main__':\n",
    "    app.run()"
   ]
  },
  {
   "cell_type": "code",
   "execution_count": null,
   "id": "e380bb78",
   "metadata": {},
   "outputs": [],
   "source": []
  }
 ],
 "metadata": {
  "kernelspec": {
   "display_name": "Python 3 (ipykernel)",
   "language": "python",
   "name": "python3"
  },
  "language_info": {
   "codemirror_mode": {
    "name": "ipython",
    "version": 3
   },
   "file_extension": ".py",
   "mimetype": "text/x-python",
   "name": "python",
   "nbconvert_exporter": "python",
   "pygments_lexer": "ipython3",
   "version": "3.9.7"
  }
 },
 "nbformat": 4,
 "nbformat_minor": 5
}
